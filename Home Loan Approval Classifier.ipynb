{
 "cells": [
  {
   "cell_type": "markdown",
   "id": "122a6e58",
   "metadata": {},
   "source": [
    "# Import Packages"
   ]
  },
  {
   "cell_type": "code",
   "execution_count": 1,
   "id": "9ea53858",
   "metadata": {},
   "outputs": [],
   "source": [
    "# import packages\n",
    "import pandas as pd\n",
    "import numpy as np\n",
    "import seaborn as sns\n",
    "import matplotlib.pyplot as plt\n",
    "from sklearn.impute import KNNImputer\n",
    "from sklearn.model_selection import train_test_split, cross_val_score, GridSearchCV\n",
    "from sklearn.preprocessing import OneHotEncoder\n",
    "from sklearn.linear_model import LogisticRegression\n",
    "from sklearn.ensemble import RandomForestClassifier\n",
    "from sklearn.metrics import confusion_matrix, accuracy_score, f1_score\n",
    "from sklearn.ensemble import GradientBoostingClassifier"
   ]
  },
  {
   "cell_type": "markdown",
   "id": "c3b24ad2",
   "metadata": {},
   "source": [
    "# EDA and Preprocessing"
   ]
  },
  {
   "cell_type": "code",
   "execution_count": 2,
   "id": "4d15f51b",
   "metadata": {},
   "outputs": [],
   "source": [
    "df = pd.read_csv(r'D:\\Multi Classification\\Home loan Approval\\loan_sanction_train.csv')"
   ]
  },
  {
   "cell_type": "markdown",
   "id": "5e4d4e63",
   "metadata": {},
   "source": [
    "## Check for statistical description"
   ]
  },
  {
   "cell_type": "markdown",
   "id": "bff4f87e",
   "metadata": {},
   "source": [
    "### Numerical statistical Description"
   ]
  },
  {
   "cell_type": "code",
   "execution_count": 3,
   "id": "cd90709f",
   "metadata": {},
   "outputs": [
    {
     "data": {
      "text/html": [
       "<div>\n",
       "<style scoped>\n",
       "    .dataframe tbody tr th:only-of-type {\n",
       "        vertical-align: middle;\n",
       "    }\n",
       "\n",
       "    .dataframe tbody tr th {\n",
       "        vertical-align: top;\n",
       "    }\n",
       "\n",
       "    .dataframe thead th {\n",
       "        text-align: right;\n",
       "    }\n",
       "</style>\n",
       "<table border=\"1\" class=\"dataframe\">\n",
       "  <thead>\n",
       "    <tr style=\"text-align: right;\">\n",
       "      <th></th>\n",
       "      <th>ApplicantIncome</th>\n",
       "      <th>CoapplicantIncome</th>\n",
       "      <th>LoanAmount</th>\n",
       "      <th>Loan_Amount_Term</th>\n",
       "      <th>Credit_History</th>\n",
       "    </tr>\n",
       "  </thead>\n",
       "  <tbody>\n",
       "    <tr>\n",
       "      <th>count</th>\n",
       "      <td>614.000000</td>\n",
       "      <td>614.000000</td>\n",
       "      <td>592.000000</td>\n",
       "      <td>600.00000</td>\n",
       "      <td>564.000000</td>\n",
       "    </tr>\n",
       "    <tr>\n",
       "      <th>mean</th>\n",
       "      <td>5403.459283</td>\n",
       "      <td>1621.245798</td>\n",
       "      <td>146.412162</td>\n",
       "      <td>342.00000</td>\n",
       "      <td>0.842199</td>\n",
       "    </tr>\n",
       "    <tr>\n",
       "      <th>std</th>\n",
       "      <td>6109.041673</td>\n",
       "      <td>2926.248369</td>\n",
       "      <td>85.587325</td>\n",
       "      <td>65.12041</td>\n",
       "      <td>0.364878</td>\n",
       "    </tr>\n",
       "    <tr>\n",
       "      <th>min</th>\n",
       "      <td>150.000000</td>\n",
       "      <td>0.000000</td>\n",
       "      <td>9.000000</td>\n",
       "      <td>12.00000</td>\n",
       "      <td>0.000000</td>\n",
       "    </tr>\n",
       "    <tr>\n",
       "      <th>25%</th>\n",
       "      <td>2877.500000</td>\n",
       "      <td>0.000000</td>\n",
       "      <td>100.000000</td>\n",
       "      <td>360.00000</td>\n",
       "      <td>1.000000</td>\n",
       "    </tr>\n",
       "    <tr>\n",
       "      <th>50%</th>\n",
       "      <td>3812.500000</td>\n",
       "      <td>1188.500000</td>\n",
       "      <td>128.000000</td>\n",
       "      <td>360.00000</td>\n",
       "      <td>1.000000</td>\n",
       "    </tr>\n",
       "    <tr>\n",
       "      <th>75%</th>\n",
       "      <td>5795.000000</td>\n",
       "      <td>2297.250000</td>\n",
       "      <td>168.000000</td>\n",
       "      <td>360.00000</td>\n",
       "      <td>1.000000</td>\n",
       "    </tr>\n",
       "    <tr>\n",
       "      <th>max</th>\n",
       "      <td>81000.000000</td>\n",
       "      <td>41667.000000</td>\n",
       "      <td>700.000000</td>\n",
       "      <td>480.00000</td>\n",
       "      <td>1.000000</td>\n",
       "    </tr>\n",
       "  </tbody>\n",
       "</table>\n",
       "</div>"
      ],
      "text/plain": [
       "       ApplicantIncome  CoapplicantIncome  LoanAmount  Loan_Amount_Term  \\\n",
       "count       614.000000         614.000000  592.000000         600.00000   \n",
       "mean       5403.459283        1621.245798  146.412162         342.00000   \n",
       "std        6109.041673        2926.248369   85.587325          65.12041   \n",
       "min         150.000000           0.000000    9.000000          12.00000   \n",
       "25%        2877.500000           0.000000  100.000000         360.00000   \n",
       "50%        3812.500000        1188.500000  128.000000         360.00000   \n",
       "75%        5795.000000        2297.250000  168.000000         360.00000   \n",
       "max       81000.000000       41667.000000  700.000000         480.00000   \n",
       "\n",
       "       Credit_History  \n",
       "count      564.000000  \n",
       "mean         0.842199  \n",
       "std          0.364878  \n",
       "min          0.000000  \n",
       "25%          1.000000  \n",
       "50%          1.000000  \n",
       "75%          1.000000  \n",
       "max          1.000000  "
      ]
     },
     "execution_count": 3,
     "metadata": {},
     "output_type": "execute_result"
    }
   ],
   "source": [
    "df.describe()"
   ]
  },
  {
   "cell_type": "markdown",
   "id": "e77f2e21",
   "metadata": {},
   "source": [
    "### Categorical Statistical Description"
   ]
  },
  {
   "cell_type": "code",
   "execution_count": 4,
   "id": "371b74b0",
   "metadata": {},
   "outputs": [
    {
     "data": {
      "text/html": [
       "<div>\n",
       "<style scoped>\n",
       "    .dataframe tbody tr th:only-of-type {\n",
       "        vertical-align: middle;\n",
       "    }\n",
       "\n",
       "    .dataframe tbody tr th {\n",
       "        vertical-align: top;\n",
       "    }\n",
       "\n",
       "    .dataframe thead th {\n",
       "        text-align: right;\n",
       "    }\n",
       "</style>\n",
       "<table border=\"1\" class=\"dataframe\">\n",
       "  <thead>\n",
       "    <tr style=\"text-align: right;\">\n",
       "      <th></th>\n",
       "      <th>Loan_ID</th>\n",
       "      <th>Gender</th>\n",
       "      <th>Married</th>\n",
       "      <th>Dependents</th>\n",
       "      <th>Education</th>\n",
       "      <th>Self_Employed</th>\n",
       "      <th>Property_Area</th>\n",
       "      <th>Loan_Status</th>\n",
       "    </tr>\n",
       "  </thead>\n",
       "  <tbody>\n",
       "    <tr>\n",
       "      <th>count</th>\n",
       "      <td>614</td>\n",
       "      <td>601</td>\n",
       "      <td>611</td>\n",
       "      <td>599</td>\n",
       "      <td>614</td>\n",
       "      <td>582</td>\n",
       "      <td>614</td>\n",
       "      <td>614</td>\n",
       "    </tr>\n",
       "    <tr>\n",
       "      <th>unique</th>\n",
       "      <td>614</td>\n",
       "      <td>2</td>\n",
       "      <td>2</td>\n",
       "      <td>4</td>\n",
       "      <td>2</td>\n",
       "      <td>2</td>\n",
       "      <td>3</td>\n",
       "      <td>2</td>\n",
       "    </tr>\n",
       "    <tr>\n",
       "      <th>top</th>\n",
       "      <td>LP001002</td>\n",
       "      <td>Male</td>\n",
       "      <td>Yes</td>\n",
       "      <td>0</td>\n",
       "      <td>Graduate</td>\n",
       "      <td>No</td>\n",
       "      <td>Semiurban</td>\n",
       "      <td>Y</td>\n",
       "    </tr>\n",
       "    <tr>\n",
       "      <th>freq</th>\n",
       "      <td>1</td>\n",
       "      <td>489</td>\n",
       "      <td>398</td>\n",
       "      <td>345</td>\n",
       "      <td>480</td>\n",
       "      <td>500</td>\n",
       "      <td>233</td>\n",
       "      <td>422</td>\n",
       "    </tr>\n",
       "  </tbody>\n",
       "</table>\n",
       "</div>"
      ],
      "text/plain": [
       "         Loan_ID Gender Married Dependents Education Self_Employed  \\\n",
       "count        614    601     611        599       614           582   \n",
       "unique       614      2       2          4         2             2   \n",
       "top     LP001002   Male     Yes          0  Graduate            No   \n",
       "freq           1    489     398        345       480           500   \n",
       "\n",
       "       Property_Area Loan_Status  \n",
       "count            614         614  \n",
       "unique             3           2  \n",
       "top        Semiurban           Y  \n",
       "freq             233         422  "
      ]
     },
     "execution_count": 4,
     "metadata": {},
     "output_type": "execute_result"
    }
   ],
   "source": [
    "df.describe(include=[object])"
   ]
  },
  {
   "cell_type": "markdown",
   "id": "7d237404",
   "metadata": {},
   "source": [
    "## Distribution Plot Numerical Columns"
   ]
  },
  {
   "cell_type": "code",
   "execution_count": 5,
   "id": "c056bb75",
   "metadata": {},
   "outputs": [
    {
     "name": "stderr",
     "output_type": "stream",
     "text": [
      "C:\\Users\\L580\\AppData\\Local\\Temp\\ipykernel_20756\\4283695574.py:3: UserWarning: To output multiple subplots, the figure containing the passed axes is being cleared.\n",
      "  df.hist(ax = ax)\n"
     ]
    },
    {
     "data": {
      "text/plain": [
       "array([[<AxesSubplot:title={'center':'ApplicantIncome'}>,\n",
       "        <AxesSubplot:title={'center':'CoapplicantIncome'}>],\n",
       "       [<AxesSubplot:title={'center':'LoanAmount'}>,\n",
       "        <AxesSubplot:title={'center':'Loan_Amount_Term'}>],\n",
       "       [<AxesSubplot:title={'center':'Credit_History'}>, <AxesSubplot:>]],\n",
       "      dtype=object)"
      ]
     },
     "execution_count": 5,
     "metadata": {},
     "output_type": "execute_result"
    },
    {
     "data": {
      "image/png": "[encoded data removed]",
      "text/plain": [
       "<Figure size 1080x1440 with 6 Axes>"
      ]
     },
     "metadata": {
      "needs_background": "light"
     },
     "output_type": "display_data"
    }
   ],
   "source": [
    "fig = plt.figure(figsize = (15,20))\n",
    "ax = fig.gca()\n",
    "df.hist(ax = ax)"
   ]
  },
  {
   "cell_type": "markdown",
   "id": "70d671df",
   "metadata": {},
   "source": [
    "## Check for Missing Values"
   ]
  },
  {
   "cell_type": "code",
   "execution_count": 6,
   "id": "f486f1e1",
   "metadata": {},
   "outputs": [
    {
     "name": "stdout",
     "output_type": "stream",
     "text": [
      "Loan_ID - 0\n",
      "Gender - 13\n",
      "Married - 3\n",
      "Dependents - 15\n",
      "Education - 0\n",
      "Self_Employed - 32\n",
      "ApplicantIncome - 0\n",
      "CoapplicantIncome - 0\n",
      "LoanAmount - 22\n",
      "Loan_Amount_Term - 14\n",
      "Credit_History - 50\n",
      "Property_Area - 0\n",
      "Loan_Status - 0\n"
     ]
    }
   ],
   "source": [
    "#menghitung missing values\n",
    "for col in df.columns:\n",
    "    pct_missing = df[col].isnull().sum()\n",
    "    print('{} - {}'.format(col,pct_missing))"
   ]
  },
  {
   "cell_type": "code",
   "execution_count": 7,
   "id": "d180d9df",
   "metadata": {},
   "outputs": [
    {
     "data": {
      "text/html": [
       "<div>\n",
       "<style scoped>\n",
       "    .dataframe tbody tr th:only-of-type {\n",
       "        vertical-align: middle;\n",
       "    }\n",
       "\n",
       "    .dataframe tbody tr th {\n",
       "        vertical-align: top;\n",
       "    }\n",
       "\n",
       "    .dataframe thead th {\n",
       "        text-align: right;\n",
       "    }\n",
       "</style>\n",
       "<table border=\"1\" class=\"dataframe\">\n",
       "  <thead>\n",
       "    <tr style=\"text-align: right;\">\n",
       "      <th></th>\n",
       "      <th>Loan_ID</th>\n",
       "      <th>Gender</th>\n",
       "      <th>Married</th>\n",
       "      <th>Dependents</th>\n",
       "      <th>Education</th>\n",
       "      <th>Self_Employed</th>\n",
       "      <th>ApplicantIncome</th>\n",
       "      <th>CoapplicantIncome</th>\n",
       "      <th>LoanAmount</th>\n",
       "      <th>Loan_Amount_Term</th>\n",
       "      <th>Credit_History</th>\n",
       "      <th>Property_Area</th>\n",
       "      <th>Loan_Status</th>\n",
       "    </tr>\n",
       "  </thead>\n",
       "  <tbody>\n",
       "    <tr>\n",
       "      <th>0</th>\n",
       "      <td>LP001002</td>\n",
       "      <td>Male</td>\n",
       "      <td>No</td>\n",
       "      <td>0</td>\n",
       "      <td>Graduate</td>\n",
       "      <td>No</td>\n",
       "      <td>5849</td>\n",
       "      <td>0.0</td>\n",
       "      <td>NaN</td>\n",
       "      <td>360.0</td>\n",
       "      <td>1.0</td>\n",
       "      <td>Urban</td>\n",
       "      <td>Y</td>\n",
       "    </tr>\n",
       "    <tr>\n",
       "      <th>11</th>\n",
       "      <td>LP001027</td>\n",
       "      <td>Male</td>\n",
       "      <td>Yes</td>\n",
       "      <td>2</td>\n",
       "      <td>Graduate</td>\n",
       "      <td>NaN</td>\n",
       "      <td>2500</td>\n",
       "      <td>1840.0</td>\n",
       "      <td>109.0</td>\n",
       "      <td>360.0</td>\n",
       "      <td>1.0</td>\n",
       "      <td>Urban</td>\n",
       "      <td>Y</td>\n",
       "    </tr>\n",
       "    <tr>\n",
       "      <th>16</th>\n",
       "      <td>LP001034</td>\n",
       "      <td>Male</td>\n",
       "      <td>No</td>\n",
       "      <td>1</td>\n",
       "      <td>Not Graduate</td>\n",
       "      <td>No</td>\n",
       "      <td>3596</td>\n",
       "      <td>0.0</td>\n",
       "      <td>100.0</td>\n",
       "      <td>240.0</td>\n",
       "      <td>NaN</td>\n",
       "      <td>Urban</td>\n",
       "      <td>Y</td>\n",
       "    </tr>\n",
       "    <tr>\n",
       "      <th>19</th>\n",
       "      <td>LP001041</td>\n",
       "      <td>Male</td>\n",
       "      <td>Yes</td>\n",
       "      <td>0</td>\n",
       "      <td>Graduate</td>\n",
       "      <td>NaN</td>\n",
       "      <td>2600</td>\n",
       "      <td>3500.0</td>\n",
       "      <td>115.0</td>\n",
       "      <td>NaN</td>\n",
       "      <td>1.0</td>\n",
       "      <td>Urban</td>\n",
       "      <td>Y</td>\n",
       "    </tr>\n",
       "    <tr>\n",
       "      <th>23</th>\n",
       "      <td>LP001050</td>\n",
       "      <td>NaN</td>\n",
       "      <td>Yes</td>\n",
       "      <td>2</td>\n",
       "      <td>Not Graduate</td>\n",
       "      <td>No</td>\n",
       "      <td>3365</td>\n",
       "      <td>1917.0</td>\n",
       "      <td>112.0</td>\n",
       "      <td>360.0</td>\n",
       "      <td>0.0</td>\n",
       "      <td>Rural</td>\n",
       "      <td>N</td>\n",
       "    </tr>\n",
       "    <tr>\n",
       "      <th>...</th>\n",
       "      <td>...</td>\n",
       "      <td>...</td>\n",
       "      <td>...</td>\n",
       "      <td>...</td>\n",
       "      <td>...</td>\n",
       "      <td>...</td>\n",
       "      <td>...</td>\n",
       "      <td>...</td>\n",
       "      <td>...</td>\n",
       "      <td>...</td>\n",
       "      <td>...</td>\n",
       "      <td>...</td>\n",
       "      <td>...</td>\n",
       "    </tr>\n",
       "    <tr>\n",
       "      <th>592</th>\n",
       "      <td>LP002933</td>\n",
       "      <td>NaN</td>\n",
       "      <td>No</td>\n",
       "      <td>3+</td>\n",
       "      <td>Graduate</td>\n",
       "      <td>Yes</td>\n",
       "      <td>9357</td>\n",
       "      <td>0.0</td>\n",
       "      <td>292.0</td>\n",
       "      <td>360.0</td>\n",
       "      <td>1.0</td>\n",
       "      <td>Semiurban</td>\n",
       "      <td>Y</td>\n",
       "    </tr>\n",
       "    <tr>\n",
       "      <th>597</th>\n",
       "      <td>LP002943</td>\n",
       "      <td>Male</td>\n",
       "      <td>No</td>\n",
       "      <td>NaN</td>\n",
       "      <td>Graduate</td>\n",
       "      <td>No</td>\n",
       "      <td>2987</td>\n",
       "      <td>0.0</td>\n",
       "      <td>88.0</td>\n",
       "      <td>360.0</td>\n",
       "      <td>0.0</td>\n",
       "      <td>Semiurban</td>\n",
       "      <td>N</td>\n",
       "    </tr>\n",
       "    <tr>\n",
       "      <th>600</th>\n",
       "      <td>LP002949</td>\n",
       "      <td>Female</td>\n",
       "      <td>No</td>\n",
       "      <td>3+</td>\n",
       "      <td>Graduate</td>\n",
       "      <td>NaN</td>\n",
       "      <td>416</td>\n",
       "      <td>41667.0</td>\n",
       "      <td>350.0</td>\n",
       "      <td>180.0</td>\n",
       "      <td>NaN</td>\n",
       "      <td>Urban</td>\n",
       "      <td>N</td>\n",
       "    </tr>\n",
       "    <tr>\n",
       "      <th>601</th>\n",
       "      <td>LP002950</td>\n",
       "      <td>Male</td>\n",
       "      <td>Yes</td>\n",
       "      <td>0</td>\n",
       "      <td>Not Graduate</td>\n",
       "      <td>NaN</td>\n",
       "      <td>2894</td>\n",
       "      <td>2792.0</td>\n",
       "      <td>155.0</td>\n",
       "      <td>360.0</td>\n",
       "      <td>1.0</td>\n",
       "      <td>Rural</td>\n",
       "      <td>Y</td>\n",
       "    </tr>\n",
       "    <tr>\n",
       "      <th>605</th>\n",
       "      <td>LP002960</td>\n",
       "      <td>Male</td>\n",
       "      <td>Yes</td>\n",
       "      <td>0</td>\n",
       "      <td>Not Graduate</td>\n",
       "      <td>No</td>\n",
       "      <td>2400</td>\n",
       "      <td>3800.0</td>\n",
       "      <td>NaN</td>\n",
       "      <td>180.0</td>\n",
       "      <td>1.0</td>\n",
       "      <td>Urban</td>\n",
       "      <td>N</td>\n",
       "    </tr>\n",
       "  </tbody>\n",
       "</table>\n",
       "<p>134 rows × 13 columns</p>\n",
       "</div>"
      ],
      "text/plain": [
       "      Loan_ID  Gender Married Dependents     Education Self_Employed  \\\n",
       "0    LP001002    Male      No          0      Graduate            No   \n",
       "11   LP001027    Male     Yes          2      Graduate           NaN   \n",
       "16   LP001034    Male      No          1  Not Graduate            No   \n",
       "19   LP001041    Male     Yes          0      Graduate           NaN   \n",
       "23   LP001050     NaN     Yes          2  Not Graduate            No   \n",
       "..        ...     ...     ...        ...           ...           ...   \n",
       "592  LP002933     NaN      No         3+      Graduate           Yes   \n",
       "597  LP002943    Male      No        NaN      Graduate            No   \n",
       "600  LP002949  Female      No         3+      Graduate           NaN   \n",
       "601  LP002950    Male     Yes          0  Not Graduate           NaN   \n",
       "605  LP002960    Male     Yes          0  Not Graduate            No   \n",
       "\n",
       "     ApplicantIncome  CoapplicantIncome  LoanAmount  Loan_Amount_Term  \\\n",
       "0               5849                0.0         NaN             360.0   \n",
       "11              2500             1840.0       109.0             360.0   \n",
       "16              3596                0.0       100.0             240.0   \n",
       "19              2600             3500.0       115.0               NaN   \n",
       "23              3365             1917.0       112.0             360.0   \n",
       "..               ...                ...         ...               ...   \n",
       "592             9357                0.0       292.0             360.0   \n",
       "597             2987                0.0        88.0             360.0   \n",
       "600              416            41667.0       350.0             180.0   \n",
       "601             2894             2792.0       155.0             360.0   \n",
       "605             2400             3800.0         NaN             180.0   \n",
       "\n",
       "     Credit_History Property_Area Loan_Status  \n",
       "0               1.0         Urban           Y  \n",
       "11              1.0         Urban           Y  \n",
       "16              NaN         Urban           Y  \n",
       "19              1.0         Urban           Y  \n",
       "23              0.0         Rural           N  \n",
       "..              ...           ...         ...  \n",
       "592             1.0     Semiurban           Y  \n",
       "597             0.0     Semiurban           N  \n",
       "600             NaN         Urban           N  \n",
       "601             1.0         Rural           Y  \n",
       "605             1.0         Urban           N  \n",
       "\n",
       "[134 rows x 13 columns]"
      ]
     },
     "execution_count": 7,
     "metadata": {},
     "output_type": "execute_result"
    }
   ],
   "source": [
    "#check missing values\n",
    "df[df.isnull().any(axis=1)]"
   ]
  },
  {
   "cell_type": "markdown",
   "id": "00282afb",
   "metadata": {},
   "source": [
    "## Replace Missing Values with Mode"
   ]
  },
  {
   "cell_type": "markdown",
   "id": "3fdb3356",
   "metadata": {},
   "source": [
    "### Replace Categorical Missing Values"
   ]
  },
  {
   "cell_type": "code",
   "execution_count": 8,
   "id": "1ad9279c",
   "metadata": {},
   "outputs": [],
   "source": [
    "df['Gender'] = df['Gender'].replace(np.NaN, 'Male')"
   ]
  },
  {
   "cell_type": "code",
   "execution_count": 9,
   "id": "f3f917d3",
   "metadata": {},
   "outputs": [
    {
     "data": {
      "text/plain": [
       "Loan_ID               0\n",
       "Gender                0\n",
       "Married               3\n",
       "Dependents           15\n",
       "Education             0\n",
       "Self_Employed        32\n",
       "ApplicantIncome       0\n",
       "CoapplicantIncome     0\n",
       "LoanAmount           22\n",
       "Loan_Amount_Term     14\n",
       "Credit_History       50\n",
       "Property_Area         0\n",
       "Loan_Status           0\n",
       "dtype: int64"
      ]
     },
     "execution_count": 9,
     "metadata": {},
     "output_type": "execute_result"
    }
   ],
   "source": [
    "df.isnull().sum() # Sanity Check"
   ]
  },
  {
   "cell_type": "code",
   "execution_count": 10,
   "id": "86be7aab",
   "metadata": {},
   "outputs": [],
   "source": [
    "df['Married'] = df['Married'].replace(np.NaN, df['Married'].mode()[0])\n",
    "df['Dependents'] = df['Dependents'].replace(np.NaN, df.Dependents.mode()[0])\n",
    "df['Self_Employed'] = df['Self_Employed'].replace(np.NaN, df.Self_Employed.mode()[0])\n",
    "df['Credit_History'] = df['Credit_History'].replace(np.NaN, df.Credit_History.mode()[0])\n",
    "\n",
    "##Alternative to replace numerical missing values\n",
    "#df['LoanAmount'] = df['LoanAmount'].replace(np.NaN, df.LoanAmount.median())\n",
    "#df['Loan_Amount_Term'] = df['Loan_Amount_Term'].replace(np.NaN, df.Loan_Amount_Term.median())"
   ]
  },
  {
   "cell_type": "markdown",
   "id": "0baaed4e",
   "metadata": {},
   "source": [
    "### Replace Numerical Missing Values with KNN"
   ]
  },
  {
   "cell_type": "code",
   "execution_count": 11,
   "id": "9fc67e15",
   "metadata": {
    "scrolled": true
   },
   "outputs": [],
   "source": [
    "imputer = KNNImputer(n_neighbors=5)\n",
    "df_loan_amount = pd.DataFrame(imputer.fit_transform(df.LoanAmount.values.reshape(-1,1)))\n",
    "df_loan_amount_term = pd.DataFrame(imputer.fit_transform(df.Loan_Amount_Term.values.reshape(-1,1)))"
   ]
  },
  {
   "cell_type": "code",
   "execution_count": 12,
   "id": "89773f1a",
   "metadata": {},
   "outputs": [],
   "source": [
    "df['LoanAmount'] = df_loan_amount[0]\n",
    "df['Loan_Amount_Term'] = df_loan_amount_term[0]"
   ]
  },
  {
   "cell_type": "code",
   "execution_count": 13,
   "id": "2b07c60b",
   "metadata": {},
   "outputs": [
    {
     "data": {
      "text/plain": [
       "Loan_ID              0\n",
       "Gender               0\n",
       "Married              0\n",
       "Dependents           0\n",
       "Education            0\n",
       "Self_Employed        0\n",
       "ApplicantIncome      0\n",
       "CoapplicantIncome    0\n",
       "LoanAmount           0\n",
       "Loan_Amount_Term     0\n",
       "Credit_History       0\n",
       "Property_Area        0\n",
       "Loan_Status          0\n",
       "dtype: int64"
      ]
     },
     "execution_count": 13,
     "metadata": {},
     "output_type": "execute_result"
    }
   ],
   "source": [
    "df.isnull().sum()# Sanity Check"
   ]
  },
  {
   "cell_type": "markdown",
   "id": "bfec5073",
   "metadata": {},
   "source": [
    "## Standardize Numerical Values"
   ]
  },
  {
   "cell_type": "code",
   "execution_count": 14,
   "id": "b907ba60",
   "metadata": {},
   "outputs": [],
   "source": [
    "df['ApplicantIncome'] = np.log1p(df['ApplicantIncome']) \n",
    "df['CoapplicantIncome'] = np.log1p(df['CoapplicantIncome'])\n",
    "df['LoanAmount'] = np.log1p(df['LoanAmount'])\n",
    "df['Loan_Amount_Term'] = np.log1p(df['Loan_Amount_Term'])"
   ]
  },
  {
   "cell_type": "markdown",
   "id": "6522e7f8",
   "metadata": {},
   "source": [
    "## One Hot Key of Categorical Values"
   ]
  },
  {
   "cell_type": "code",
   "execution_count": 15,
   "id": "1ac936e1",
   "metadata": {},
   "outputs": [],
   "source": [
    "# importing one hot encoder \n",
    "\n",
    "# creating one hot encoder object \n",
    "onehotencoder = OneHotEncoder()\n",
    "#reshape the 1-D country array to 2-D as fit_transform expects 2-D and finally fit the object \n",
    "df_Gender = pd.DataFrame(onehotencoder.fit_transform(df.Gender.values.reshape(-1,1)).toarray(),\n",
    "                         columns = [\"gender_\"+str(int(i)) for i in range(2)])\n",
    "df_Married = pd.DataFrame(onehotencoder.fit_transform(df.Married.values.reshape(-1,1)).toarray(),\n",
    "                          columns = [\"Married_\"+str(int(i)) for i in range(2)])\n",
    "#df_Dependents = pd.DataFrame(onehotencoder.fit_transform(df.Dependents.values.reshape(-1,1)).toarray(),\n",
    "#                             columns = [\"Dependents_\"+str(int(i)) for i in range(4)])\n",
    "df_Education = pd.DataFrame(onehotencoder.fit_transform(df.Education.values.reshape(-1,1)).toarray(), \n",
    "                            columns = [\"Education_\"+str(int(i)) for i in range(2)])\n",
    "df_Self_Employed = pd.DataFrame(onehotencoder.fit_transform(df.Self_Employed.values.reshape(-1,1)).toarray(), \n",
    "                                columns = [\"Self_Employed_\"+str(int(i)) for i in range(2)])\n",
    "df_Credit_History = pd.DataFrame(onehotencoder.fit_transform(df.Credit_History.values.reshape(-1,1)).toarray(), \n",
    "                                 columns = [\"Credit_History_\"+str(int(i)) for i in range(2)])\n",
    "df_Property_Area = pd.DataFrame(onehotencoder.fit_transform(df.Property_Area.values.reshape(-1,1)).toarray(), \n",
    "                                columns = [\"Property_Area_\"+str(int(i)) for i in range(3)])"
   ]
  },
  {
   "cell_type": "code",
   "execution_count": 16,
   "id": "548a1a4f",
   "metadata": {
    "scrolled": true
   },
   "outputs": [
    {
     "data": {
      "text/html": [
       "<div>\n",
       "<style scoped>\n",
       "    .dataframe tbody tr th:only-of-type {\n",
       "        vertical-align: middle;\n",
       "    }\n",
       "\n",
       "    .dataframe tbody tr th {\n",
       "        vertical-align: top;\n",
       "    }\n",
       "\n",
       "    .dataframe thead th {\n",
       "        text-align: right;\n",
       "    }\n",
       "</style>\n",
       "<table border=\"1\" class=\"dataframe\">\n",
       "  <thead>\n",
       "    <tr style=\"text-align: right;\">\n",
       "      <th></th>\n",
       "      <th>Married_0</th>\n",
       "      <th>Married_1</th>\n",
       "    </tr>\n",
       "  </thead>\n",
       "  <tbody>\n",
       "    <tr>\n",
       "      <th>0</th>\n",
       "      <td>1.0</td>\n",
       "      <td>0.0</td>\n",
       "    </tr>\n",
       "    <tr>\n",
       "      <th>1</th>\n",
       "      <td>0.0</td>\n",
       "      <td>1.0</td>\n",
       "    </tr>\n",
       "    <tr>\n",
       "      <th>2</th>\n",
       "      <td>0.0</td>\n",
       "      <td>1.0</td>\n",
       "    </tr>\n",
       "    <tr>\n",
       "      <th>3</th>\n",
       "      <td>0.0</td>\n",
       "      <td>1.0</td>\n",
       "    </tr>\n",
       "    <tr>\n",
       "      <th>4</th>\n",
       "      <td>1.0</td>\n",
       "      <td>0.0</td>\n",
       "    </tr>\n",
       "    <tr>\n",
       "      <th>...</th>\n",
       "      <td>...</td>\n",
       "      <td>...</td>\n",
       "    </tr>\n",
       "    <tr>\n",
       "      <th>609</th>\n",
       "      <td>1.0</td>\n",
       "      <td>0.0</td>\n",
       "    </tr>\n",
       "    <tr>\n",
       "      <th>610</th>\n",
       "      <td>0.0</td>\n",
       "      <td>1.0</td>\n",
       "    </tr>\n",
       "    <tr>\n",
       "      <th>611</th>\n",
       "      <td>0.0</td>\n",
       "      <td>1.0</td>\n",
       "    </tr>\n",
       "    <tr>\n",
       "      <th>612</th>\n",
       "      <td>0.0</td>\n",
       "      <td>1.0</td>\n",
       "    </tr>\n",
       "    <tr>\n",
       "      <th>613</th>\n",
       "      <td>1.0</td>\n",
       "      <td>0.0</td>\n",
       "    </tr>\n",
       "  </tbody>\n",
       "</table>\n",
       "<p>614 rows × 2 columns</p>\n",
       "</div>"
      ],
      "text/plain": [
       "     Married_0  Married_1\n",
       "0          1.0        0.0\n",
       "1          0.0        1.0\n",
       "2          0.0        1.0\n",
       "3          0.0        1.0\n",
       "4          1.0        0.0\n",
       "..         ...        ...\n",
       "609        1.0        0.0\n",
       "610        0.0        1.0\n",
       "611        0.0        1.0\n",
       "612        0.0        1.0\n",
       "613        1.0        0.0\n",
       "\n",
       "[614 rows x 2 columns]"
      ]
     },
     "execution_count": 16,
     "metadata": {},
     "output_type": "execute_result"
    }
   ],
   "source": [
    "df_Married## Sanity Check"
   ]
  },
  {
   "cell_type": "markdown",
   "id": "8c9c9fae",
   "metadata": {},
   "source": [
    "## Encoding Features"
   ]
  },
  {
   "cell_type": "code",
   "execution_count": 17,
   "id": "e502640a",
   "metadata": {},
   "outputs": [],
   "source": [
    "Target_Encoding = {\"Loan_Status\":     {\"Y\": 1, \"N\": 0}, \n",
    "                   \"Dependents\":     {'0' : 0, '1' : 1, '2' : 1, '3+' : 2}}"
   ]
  },
  {
   "cell_type": "code",
   "execution_count": 18,
   "id": "08b05958",
   "metadata": {
    "scrolled": true
   },
   "outputs": [
    {
     "data": {
      "text/plain": [
       "0      1\n",
       "1      0\n",
       "2      1\n",
       "3      1\n",
       "4      1\n",
       "      ..\n",
       "609    1\n",
       "610    1\n",
       "611    1\n",
       "612    1\n",
       "613    0\n",
       "Name: Loan_Status, Length: 614, dtype: int64"
      ]
     },
     "execution_count": 18,
     "metadata": {},
     "output_type": "execute_result"
    }
   ],
   "source": [
    "df = df.replace(Target_Encoding)\n",
    "df.Loan_Status"
   ]
  },
  {
   "cell_type": "markdown",
   "id": "69fa5ef2",
   "metadata": {},
   "source": [
    "## Combine and drop features"
   ]
  },
  {
   "cell_type": "code",
   "execution_count": 19,
   "id": "6639747e",
   "metadata": {},
   "outputs": [],
   "source": [
    "## Combine all new columns\n",
    "df = pd.concat([df, \n",
    "                df_Gender, \n",
    "                df_Married, \n",
    "                #df_Dependents, \n",
    "                df_Education, \n",
    "                df_Self_Employed, \n",
    "                df_Credit_History, \n",
    "                df_Property_Area], \n",
    "               axis=1)"
   ]
  },
  {
   "cell_type": "code",
   "execution_count": 20,
   "id": "a13092cd",
   "metadata": {
    "scrolled": true
   },
   "outputs": [
    {
     "data": {
      "text/html": [
       "<div>\n",
       "<style scoped>\n",
       "    .dataframe tbody tr th:only-of-type {\n",
       "        vertical-align: middle;\n",
       "    }\n",
       "\n",
       "    .dataframe tbody tr th {\n",
       "        vertical-align: top;\n",
       "    }\n",
       "\n",
       "    .dataframe thead th {\n",
       "        text-align: right;\n",
       "    }\n",
       "</style>\n",
       "<table border=\"1\" class=\"dataframe\">\n",
       "  <thead>\n",
       "    <tr style=\"text-align: right;\">\n",
       "      <th></th>\n",
       "      <th>Loan_ID</th>\n",
       "      <th>Gender</th>\n",
       "      <th>Married</th>\n",
       "      <th>Dependents</th>\n",
       "      <th>Education</th>\n",
       "      <th>Self_Employed</th>\n",
       "      <th>ApplicantIncome</th>\n",
       "      <th>CoapplicantIncome</th>\n",
       "      <th>LoanAmount</th>\n",
       "      <th>Loan_Amount_Term</th>\n",
       "      <th>...</th>\n",
       "      <th>Married_1</th>\n",
       "      <th>Education_0</th>\n",
       "      <th>Education_1</th>\n",
       "      <th>Self_Employed_0</th>\n",
       "      <th>Self_Employed_1</th>\n",
       "      <th>Credit_History_0</th>\n",
       "      <th>Credit_History_1</th>\n",
       "      <th>Property_Area_0</th>\n",
       "      <th>Property_Area_1</th>\n",
       "      <th>Property_Area_2</th>\n",
       "    </tr>\n",
       "  </thead>\n",
       "  <tbody>\n",
       "    <tr>\n",
       "      <th>0</th>\n",
       "      <td>LP001002</td>\n",
       "      <td>Male</td>\n",
       "      <td>No</td>\n",
       "      <td>0</td>\n",
       "      <td>Graduate</td>\n",
       "      <td>No</td>\n",
       "      <td>8.674197</td>\n",
       "      <td>0.000000</td>\n",
       "      <td>4.993232</td>\n",
       "      <td>5.888878</td>\n",
       "      <td>...</td>\n",
       "      <td>0.0</td>\n",
       "      <td>1.0</td>\n",
       "      <td>0.0</td>\n",
       "      <td>1.0</td>\n",
       "      <td>0.0</td>\n",
       "      <td>0.0</td>\n",
       "      <td>1.0</td>\n",
       "      <td>0.0</td>\n",
       "      <td>0.0</td>\n",
       "      <td>1.0</td>\n",
       "    </tr>\n",
       "    <tr>\n",
       "      <th>1</th>\n",
       "      <td>LP001003</td>\n",
       "      <td>Male</td>\n",
       "      <td>Yes</td>\n",
       "      <td>1</td>\n",
       "      <td>Graduate</td>\n",
       "      <td>No</td>\n",
       "      <td>8.430327</td>\n",
       "      <td>7.319202</td>\n",
       "      <td>4.859812</td>\n",
       "      <td>5.888878</td>\n",
       "      <td>...</td>\n",
       "      <td>1.0</td>\n",
       "      <td>1.0</td>\n",
       "      <td>0.0</td>\n",
       "      <td>1.0</td>\n",
       "      <td>0.0</td>\n",
       "      <td>0.0</td>\n",
       "      <td>1.0</td>\n",
       "      <td>1.0</td>\n",
       "      <td>0.0</td>\n",
       "      <td>0.0</td>\n",
       "    </tr>\n",
       "    <tr>\n",
       "      <th>2</th>\n",
       "      <td>LP001005</td>\n",
       "      <td>Male</td>\n",
       "      <td>Yes</td>\n",
       "      <td>0</td>\n",
       "      <td>Graduate</td>\n",
       "      <td>Yes</td>\n",
       "      <td>8.006701</td>\n",
       "      <td>0.000000</td>\n",
       "      <td>4.204693</td>\n",
       "      <td>5.888878</td>\n",
       "      <td>...</td>\n",
       "      <td>1.0</td>\n",
       "      <td>1.0</td>\n",
       "      <td>0.0</td>\n",
       "      <td>0.0</td>\n",
       "      <td>1.0</td>\n",
       "      <td>0.0</td>\n",
       "      <td>1.0</td>\n",
       "      <td>0.0</td>\n",
       "      <td>0.0</td>\n",
       "      <td>1.0</td>\n",
       "    </tr>\n",
       "    <tr>\n",
       "      <th>3</th>\n",
       "      <td>LP001006</td>\n",
       "      <td>Male</td>\n",
       "      <td>Yes</td>\n",
       "      <td>0</td>\n",
       "      <td>Not Graduate</td>\n",
       "      <td>No</td>\n",
       "      <td>7.857094</td>\n",
       "      <td>7.765993</td>\n",
       "      <td>4.795791</td>\n",
       "      <td>5.888878</td>\n",
       "      <td>...</td>\n",
       "      <td>1.0</td>\n",
       "      <td>0.0</td>\n",
       "      <td>1.0</td>\n",
       "      <td>1.0</td>\n",
       "      <td>0.0</td>\n",
       "      <td>0.0</td>\n",
       "      <td>1.0</td>\n",
       "      <td>0.0</td>\n",
       "      <td>0.0</td>\n",
       "      <td>1.0</td>\n",
       "    </tr>\n",
       "    <tr>\n",
       "      <th>4</th>\n",
       "      <td>LP001008</td>\n",
       "      <td>Male</td>\n",
       "      <td>No</td>\n",
       "      <td>0</td>\n",
       "      <td>Graduate</td>\n",
       "      <td>No</td>\n",
       "      <td>8.699681</td>\n",
       "      <td>0.000000</td>\n",
       "      <td>4.955827</td>\n",
       "      <td>5.888878</td>\n",
       "      <td>...</td>\n",
       "      <td>0.0</td>\n",
       "      <td>1.0</td>\n",
       "      <td>0.0</td>\n",
       "      <td>1.0</td>\n",
       "      <td>0.0</td>\n",
       "      <td>0.0</td>\n",
       "      <td>1.0</td>\n",
       "      <td>0.0</td>\n",
       "      <td>0.0</td>\n",
       "      <td>1.0</td>\n",
       "    </tr>\n",
       "    <tr>\n",
       "      <th>...</th>\n",
       "      <td>...</td>\n",
       "      <td>...</td>\n",
       "      <td>...</td>\n",
       "      <td>...</td>\n",
       "      <td>...</td>\n",
       "      <td>...</td>\n",
       "      <td>...</td>\n",
       "      <td>...</td>\n",
       "      <td>...</td>\n",
       "      <td>...</td>\n",
       "      <td>...</td>\n",
       "      <td>...</td>\n",
       "      <td>...</td>\n",
       "      <td>...</td>\n",
       "      <td>...</td>\n",
       "      <td>...</td>\n",
       "      <td>...</td>\n",
       "      <td>...</td>\n",
       "      <td>...</td>\n",
       "      <td>...</td>\n",
       "      <td>...</td>\n",
       "    </tr>\n",
       "    <tr>\n",
       "      <th>609</th>\n",
       "      <td>LP002978</td>\n",
       "      <td>Female</td>\n",
       "      <td>No</td>\n",
       "      <td>0</td>\n",
       "      <td>Graduate</td>\n",
       "      <td>No</td>\n",
       "      <td>7.972811</td>\n",
       "      <td>0.000000</td>\n",
       "      <td>4.276666</td>\n",
       "      <td>5.888878</td>\n",
       "      <td>...</td>\n",
       "      <td>0.0</td>\n",
       "      <td>1.0</td>\n",
       "      <td>0.0</td>\n",
       "      <td>1.0</td>\n",
       "      <td>0.0</td>\n",
       "      <td>0.0</td>\n",
       "      <td>1.0</td>\n",
       "      <td>1.0</td>\n",
       "      <td>0.0</td>\n",
       "      <td>0.0</td>\n",
       "    </tr>\n",
       "    <tr>\n",
       "      <th>610</th>\n",
       "      <td>LP002979</td>\n",
       "      <td>Male</td>\n",
       "      <td>Yes</td>\n",
       "      <td>2</td>\n",
       "      <td>Graduate</td>\n",
       "      <td>No</td>\n",
       "      <td>8.320448</td>\n",
       "      <td>0.000000</td>\n",
       "      <td>3.713572</td>\n",
       "      <td>5.198497</td>\n",
       "      <td>...</td>\n",
       "      <td>1.0</td>\n",
       "      <td>1.0</td>\n",
       "      <td>0.0</td>\n",
       "      <td>1.0</td>\n",
       "      <td>0.0</td>\n",
       "      <td>0.0</td>\n",
       "      <td>1.0</td>\n",
       "      <td>1.0</td>\n",
       "      <td>0.0</td>\n",
       "      <td>0.0</td>\n",
       "    </tr>\n",
       "    <tr>\n",
       "      <th>611</th>\n",
       "      <td>LP002983</td>\n",
       "      <td>Male</td>\n",
       "      <td>Yes</td>\n",
       "      <td>1</td>\n",
       "      <td>Graduate</td>\n",
       "      <td>No</td>\n",
       "      <td>8.996280</td>\n",
       "      <td>5.484797</td>\n",
       "      <td>5.537334</td>\n",
       "      <td>5.888878</td>\n",
       "      <td>...</td>\n",
       "      <td>1.0</td>\n",
       "      <td>1.0</td>\n",
       "      <td>0.0</td>\n",
       "      <td>1.0</td>\n",
       "      <td>0.0</td>\n",
       "      <td>0.0</td>\n",
       "      <td>1.0</td>\n",
       "      <td>0.0</td>\n",
       "      <td>0.0</td>\n",
       "      <td>1.0</td>\n",
       "    </tr>\n",
       "    <tr>\n",
       "      <th>612</th>\n",
       "      <td>LP002984</td>\n",
       "      <td>Male</td>\n",
       "      <td>Yes</td>\n",
       "      <td>1</td>\n",
       "      <td>Graduate</td>\n",
       "      <td>No</td>\n",
       "      <td>8.933796</td>\n",
       "      <td>0.000000</td>\n",
       "      <td>5.236442</td>\n",
       "      <td>5.888878</td>\n",
       "      <td>...</td>\n",
       "      <td>1.0</td>\n",
       "      <td>1.0</td>\n",
       "      <td>0.0</td>\n",
       "      <td>1.0</td>\n",
       "      <td>0.0</td>\n",
       "      <td>0.0</td>\n",
       "      <td>1.0</td>\n",
       "      <td>0.0</td>\n",
       "      <td>0.0</td>\n",
       "      <td>1.0</td>\n",
       "    </tr>\n",
       "    <tr>\n",
       "      <th>613</th>\n",
       "      <td>LP002990</td>\n",
       "      <td>Female</td>\n",
       "      <td>No</td>\n",
       "      <td>0</td>\n",
       "      <td>Graduate</td>\n",
       "      <td>Yes</td>\n",
       "      <td>8.430327</td>\n",
       "      <td>0.000000</td>\n",
       "      <td>4.897840</td>\n",
       "      <td>5.888878</td>\n",
       "      <td>...</td>\n",
       "      <td>0.0</td>\n",
       "      <td>1.0</td>\n",
       "      <td>0.0</td>\n",
       "      <td>0.0</td>\n",
       "      <td>1.0</td>\n",
       "      <td>1.0</td>\n",
       "      <td>0.0</td>\n",
       "      <td>0.0</td>\n",
       "      <td>1.0</td>\n",
       "      <td>0.0</td>\n",
       "    </tr>\n",
       "  </tbody>\n",
       "</table>\n",
       "<p>614 rows × 26 columns</p>\n",
       "</div>"
      ],
      "text/plain": [
       "      Loan_ID  Gender Married  Dependents     Education Self_Employed  \\\n",
       "0    LP001002    Male      No           0      Graduate            No   \n",
       "1    LP001003    Male     Yes           1      Graduate            No   \n",
       "2    LP001005    Male     Yes           0      Graduate           Yes   \n",
       "3    LP001006    Male     Yes           0  Not Graduate            No   \n",
       "4    LP001008    Male      No           0      Graduate            No   \n",
       "..        ...     ...     ...         ...           ...           ...   \n",
       "609  LP002978  Female      No           0      Graduate            No   \n",
       "610  LP002979    Male     Yes           2      Graduate            No   \n",
       "611  LP002983    Male     Yes           1      Graduate            No   \n",
       "612  LP002984    Male     Yes           1      Graduate            No   \n",
       "613  LP002990  Female      No           0      Graduate           Yes   \n",
       "\n",
       "     ApplicantIncome  CoapplicantIncome  LoanAmount  Loan_Amount_Term  ...  \\\n",
       "0           8.674197           0.000000    4.993232          5.888878  ...   \n",
       "1           8.430327           7.319202    4.859812          5.888878  ...   \n",
       "2           8.006701           0.000000    4.204693          5.888878  ...   \n",
       "3           7.857094           7.765993    4.795791          5.888878  ...   \n",
       "4           8.699681           0.000000    4.955827          5.888878  ...   \n",
       "..               ...                ...         ...               ...  ...   \n",
       "609         7.972811           0.000000    4.276666          5.888878  ...   \n",
       "610         8.320448           0.000000    3.713572          5.198497  ...   \n",
       "611         8.996280           5.484797    5.537334          5.888878  ...   \n",
       "612         8.933796           0.000000    5.236442          5.888878  ...   \n",
       "613         8.430327           0.000000    4.897840          5.888878  ...   \n",
       "\n",
       "     Married_1 Education_0  Education_1  Self_Employed_0  Self_Employed_1  \\\n",
       "0          0.0         1.0          0.0              1.0              0.0   \n",
       "1          1.0         1.0          0.0              1.0              0.0   \n",
       "2          1.0         1.0          0.0              0.0              1.0   \n",
       "3          1.0         0.0          1.0              1.0              0.0   \n",
       "4          0.0         1.0          0.0              1.0              0.0   \n",
       "..         ...         ...          ...              ...              ...   \n",
       "609        0.0         1.0          0.0              1.0              0.0   \n",
       "610        1.0         1.0          0.0              1.0              0.0   \n",
       "611        1.0         1.0          0.0              1.0              0.0   \n",
       "612        1.0         1.0          0.0              1.0              0.0   \n",
       "613        0.0         1.0          0.0              0.0              1.0   \n",
       "\n",
       "     Credit_History_0  Credit_History_1  Property_Area_0  Property_Area_1  \\\n",
       "0                 0.0               1.0              0.0              0.0   \n",
       "1                 0.0               1.0              1.0              0.0   \n",
       "2                 0.0               1.0              0.0              0.0   \n",
       "3                 0.0               1.0              0.0              0.0   \n",
       "4                 0.0               1.0              0.0              0.0   \n",
       "..                ...               ...              ...              ...   \n",
       "609               0.0               1.0              1.0              0.0   \n",
       "610               0.0               1.0              1.0              0.0   \n",
       "611               0.0               1.0              0.0              0.0   \n",
       "612               0.0               1.0              0.0              0.0   \n",
       "613               1.0               0.0              0.0              1.0   \n",
       "\n",
       "     Property_Area_2  \n",
       "0                1.0  \n",
       "1                0.0  \n",
       "2                1.0  \n",
       "3                1.0  \n",
       "4                1.0  \n",
       "..               ...  \n",
       "609              0.0  \n",
       "610              0.0  \n",
       "611              1.0  \n",
       "612              1.0  \n",
       "613              0.0  \n",
       "\n",
       "[614 rows x 26 columns]"
      ]
     },
     "execution_count": 20,
     "metadata": {},
     "output_type": "execute_result"
    }
   ],
   "source": [
    "df## sanity check"
   ]
  },
  {
   "cell_type": "code",
   "execution_count": 21,
   "id": "91aa62ca",
   "metadata": {},
   "outputs": [],
   "source": [
    "## Clean unnecessary features\n",
    "df = df.drop(['Loan_ID', \n",
    "         'Gender', \n",
    "         'Married', \n",
    "         #'Dependents', \n",
    "         'Education',\n",
    "         'Self_Employed', \n",
    "         'Credit_History',\n",
    "         'Property_Area'], axis=1)\n"
   ]
  },
  {
   "cell_type": "code",
   "execution_count": 22,
   "id": "f6a9a5a6",
   "metadata": {
    "scrolled": true
   },
   "outputs": [
    {
     "data": {
      "text/html": [
       "<div>\n",
       "<style scoped>\n",
       "    .dataframe tbody tr th:only-of-type {\n",
       "        vertical-align: middle;\n",
       "    }\n",
       "\n",
       "    .dataframe tbody tr th {\n",
       "        vertical-align: top;\n",
       "    }\n",
       "\n",
       "    .dataframe thead th {\n",
       "        text-align: right;\n",
       "    }\n",
       "</style>\n",
       "<table border=\"1\" class=\"dataframe\">\n",
       "  <thead>\n",
       "    <tr style=\"text-align: right;\">\n",
       "      <th></th>\n",
       "      <th>Dependents</th>\n",
       "      <th>ApplicantIncome</th>\n",
       "      <th>CoapplicantIncome</th>\n",
       "      <th>LoanAmount</th>\n",
       "      <th>Loan_Amount_Term</th>\n",
       "      <th>Loan_Status</th>\n",
       "      <th>gender_0</th>\n",
       "      <th>gender_1</th>\n",
       "      <th>Married_0</th>\n",
       "      <th>Married_1</th>\n",
       "      <th>Education_0</th>\n",
       "      <th>Education_1</th>\n",
       "      <th>Self_Employed_0</th>\n",
       "      <th>Self_Employed_1</th>\n",
       "      <th>Credit_History_0</th>\n",
       "      <th>Credit_History_1</th>\n",
       "      <th>Property_Area_0</th>\n",
       "      <th>Property_Area_1</th>\n",
       "      <th>Property_Area_2</th>\n",
       "    </tr>\n",
       "  </thead>\n",
       "  <tbody>\n",
       "    <tr>\n",
       "      <th>0</th>\n",
       "      <td>0</td>\n",
       "      <td>8.674197</td>\n",
       "      <td>0.000000</td>\n",
       "      <td>4.993232</td>\n",
       "      <td>5.888878</td>\n",
       "      <td>1</td>\n",
       "      <td>0.0</td>\n",
       "      <td>1.0</td>\n",
       "      <td>1.0</td>\n",
       "      <td>0.0</td>\n",
       "      <td>1.0</td>\n",
       "      <td>0.0</td>\n",
       "      <td>1.0</td>\n",
       "      <td>0.0</td>\n",
       "      <td>0.0</td>\n",
       "      <td>1.0</td>\n",
       "      <td>0.0</td>\n",
       "      <td>0.0</td>\n",
       "      <td>1.0</td>\n",
       "    </tr>\n",
       "    <tr>\n",
       "      <th>1</th>\n",
       "      <td>1</td>\n",
       "      <td>8.430327</td>\n",
       "      <td>7.319202</td>\n",
       "      <td>4.859812</td>\n",
       "      <td>5.888878</td>\n",
       "      <td>0</td>\n",
       "      <td>0.0</td>\n",
       "      <td>1.0</td>\n",
       "      <td>0.0</td>\n",
       "      <td>1.0</td>\n",
       "      <td>1.0</td>\n",
       "      <td>0.0</td>\n",
       "      <td>1.0</td>\n",
       "      <td>0.0</td>\n",
       "      <td>0.0</td>\n",
       "      <td>1.0</td>\n",
       "      <td>1.0</td>\n",
       "      <td>0.0</td>\n",
       "      <td>0.0</td>\n",
       "    </tr>\n",
       "    <tr>\n",
       "      <th>2</th>\n",
       "      <td>0</td>\n",
       "      <td>8.006701</td>\n",
       "      <td>0.000000</td>\n",
       "      <td>4.204693</td>\n",
       "      <td>5.888878</td>\n",
       "      <td>1</td>\n",
       "      <td>0.0</td>\n",
       "      <td>1.0</td>\n",
       "      <td>0.0</td>\n",
       "      <td>1.0</td>\n",
       "      <td>1.0</td>\n",
       "      <td>0.0</td>\n",
       "      <td>0.0</td>\n",
       "      <td>1.0</td>\n",
       "      <td>0.0</td>\n",
       "      <td>1.0</td>\n",
       "      <td>0.0</td>\n",
       "      <td>0.0</td>\n",
       "      <td>1.0</td>\n",
       "    </tr>\n",
       "    <tr>\n",
       "      <th>3</th>\n",
       "      <td>0</td>\n",
       "      <td>7.857094</td>\n",
       "      <td>7.765993</td>\n",
       "      <td>4.795791</td>\n",
       "      <td>5.888878</td>\n",
       "      <td>1</td>\n",
       "      <td>0.0</td>\n",
       "      <td>1.0</td>\n",
       "      <td>0.0</td>\n",
       "      <td>1.0</td>\n",
       "      <td>0.0</td>\n",
       "      <td>1.0</td>\n",
       "      <td>1.0</td>\n",
       "      <td>0.0</td>\n",
       "      <td>0.0</td>\n",
       "      <td>1.0</td>\n",
       "      <td>0.0</td>\n",
       "      <td>0.0</td>\n",
       "      <td>1.0</td>\n",
       "    </tr>\n",
       "    <tr>\n",
       "      <th>4</th>\n",
       "      <td>0</td>\n",
       "      <td>8.699681</td>\n",
       "      <td>0.000000</td>\n",
       "      <td>4.955827</td>\n",
       "      <td>5.888878</td>\n",
       "      <td>1</td>\n",
       "      <td>0.0</td>\n",
       "      <td>1.0</td>\n",
       "      <td>1.0</td>\n",
       "      <td>0.0</td>\n",
       "      <td>1.0</td>\n",
       "      <td>0.0</td>\n",
       "      <td>1.0</td>\n",
       "      <td>0.0</td>\n",
       "      <td>0.0</td>\n",
       "      <td>1.0</td>\n",
       "      <td>0.0</td>\n",
       "      <td>0.0</td>\n",
       "      <td>1.0</td>\n",
       "    </tr>\n",
       "    <tr>\n",
       "      <th>...</th>\n",
       "      <td>...</td>\n",
       "      <td>...</td>\n",
       "      <td>...</td>\n",
       "      <td>...</td>\n",
       "      <td>...</td>\n",
       "      <td>...</td>\n",
       "      <td>...</td>\n",
       "      <td>...</td>\n",
       "      <td>...</td>\n",
       "      <td>...</td>\n",
       "      <td>...</td>\n",
       "      <td>...</td>\n",
       "      <td>...</td>\n",
       "      <td>...</td>\n",
       "      <td>...</td>\n",
       "      <td>...</td>\n",
       "      <td>...</td>\n",
       "      <td>...</td>\n",
       "      <td>...</td>\n",
       "    </tr>\n",
       "    <tr>\n",
       "      <th>609</th>\n",
       "      <td>0</td>\n",
       "      <td>7.972811</td>\n",
       "      <td>0.000000</td>\n",
       "      <td>4.276666</td>\n",
       "      <td>5.888878</td>\n",
       "      <td>1</td>\n",
       "      <td>1.0</td>\n",
       "      <td>0.0</td>\n",
       "      <td>1.0</td>\n",
       "      <td>0.0</td>\n",
       "      <td>1.0</td>\n",
       "      <td>0.0</td>\n",
       "      <td>1.0</td>\n",
       "      <td>0.0</td>\n",
       "      <td>0.0</td>\n",
       "      <td>1.0</td>\n",
       "      <td>1.0</td>\n",
       "      <td>0.0</td>\n",
       "      <td>0.0</td>\n",
       "    </tr>\n",
       "    <tr>\n",
       "      <th>610</th>\n",
       "      <td>2</td>\n",
       "      <td>8.320448</td>\n",
       "      <td>0.000000</td>\n",
       "      <td>3.713572</td>\n",
       "      <td>5.198497</td>\n",
       "      <td>1</td>\n",
       "      <td>0.0</td>\n",
       "      <td>1.0</td>\n",
       "      <td>0.0</td>\n",
       "      <td>1.0</td>\n",
       "      <td>1.0</td>\n",
       "      <td>0.0</td>\n",
       "      <td>1.0</td>\n",
       "      <td>0.0</td>\n",
       "      <td>0.0</td>\n",
       "      <td>1.0</td>\n",
       "      <td>1.0</td>\n",
       "      <td>0.0</td>\n",
       "      <td>0.0</td>\n",
       "    </tr>\n",
       "    <tr>\n",
       "      <th>611</th>\n",
       "      <td>1</td>\n",
       "      <td>8.996280</td>\n",
       "      <td>5.484797</td>\n",
       "      <td>5.537334</td>\n",
       "      <td>5.888878</td>\n",
       "      <td>1</td>\n",
       "      <td>0.0</td>\n",
       "      <td>1.0</td>\n",
       "      <td>0.0</td>\n",
       "      <td>1.0</td>\n",
       "      <td>1.0</td>\n",
       "      <td>0.0</td>\n",
       "      <td>1.0</td>\n",
       "      <td>0.0</td>\n",
       "      <td>0.0</td>\n",
       "      <td>1.0</td>\n",
       "      <td>0.0</td>\n",
       "      <td>0.0</td>\n",
       "      <td>1.0</td>\n",
       "    </tr>\n",
       "    <tr>\n",
       "      <th>612</th>\n",
       "      <td>1</td>\n",
       "      <td>8.933796</td>\n",
       "      <td>0.000000</td>\n",
       "      <td>5.236442</td>\n",
       "      <td>5.888878</td>\n",
       "      <td>1</td>\n",
       "      <td>0.0</td>\n",
       "      <td>1.0</td>\n",
       "      <td>0.0</td>\n",
       "      <td>1.0</td>\n",
       "      <td>1.0</td>\n",
       "      <td>0.0</td>\n",
       "      <td>1.0</td>\n",
       "      <td>0.0</td>\n",
       "      <td>0.0</td>\n",
       "      <td>1.0</td>\n",
       "      <td>0.0</td>\n",
       "      <td>0.0</td>\n",
       "      <td>1.0</td>\n",
       "    </tr>\n",
       "    <tr>\n",
       "      <th>613</th>\n",
       "      <td>0</td>\n",
       "      <td>8.430327</td>\n",
       "      <td>0.000000</td>\n",
       "      <td>4.897840</td>\n",
       "      <td>5.888878</td>\n",
       "      <td>0</td>\n",
       "      <td>1.0</td>\n",
       "      <td>0.0</td>\n",
       "      <td>1.0</td>\n",
       "      <td>0.0</td>\n",
       "      <td>1.0</td>\n",
       "      <td>0.0</td>\n",
       "      <td>0.0</td>\n",
       "      <td>1.0</td>\n",
       "      <td>1.0</td>\n",
       "      <td>0.0</td>\n",
       "      <td>0.0</td>\n",
       "      <td>1.0</td>\n",
       "      <td>0.0</td>\n",
       "    </tr>\n",
       "  </tbody>\n",
       "</table>\n",
       "<p>614 rows × 19 columns</p>\n",
       "</div>"
      ],
      "text/plain": [
       "     Dependents  ApplicantIncome  CoapplicantIncome  LoanAmount  \\\n",
       "0             0         8.674197           0.000000    4.993232   \n",
       "1             1         8.430327           7.319202    4.859812   \n",
       "2             0         8.006701           0.000000    4.204693   \n",
       "3             0         7.857094           7.765993    4.795791   \n",
       "4             0         8.699681           0.000000    4.955827   \n",
       "..          ...              ...                ...         ...   \n",
       "609           0         7.972811           0.000000    4.276666   \n",
       "610           2         8.320448           0.000000    3.713572   \n",
       "611           1         8.996280           5.484797    5.537334   \n",
       "612           1         8.933796           0.000000    5.236442   \n",
       "613           0         8.430327           0.000000    4.897840   \n",
       "\n",
       "     Loan_Amount_Term  Loan_Status  gender_0  gender_1  Married_0  Married_1  \\\n",
       "0            5.888878            1       0.0       1.0        1.0        0.0   \n",
       "1            5.888878            0       0.0       1.0        0.0        1.0   \n",
       "2            5.888878            1       0.0       1.0        0.0        1.0   \n",
       "3            5.888878            1       0.0       1.0        0.0        1.0   \n",
       "4            5.888878            1       0.0       1.0        1.0        0.0   \n",
       "..                ...          ...       ...       ...        ...        ...   \n",
       "609          5.888878            1       1.0       0.0        1.0        0.0   \n",
       "610          5.198497            1       0.0       1.0        0.0        1.0   \n",
       "611          5.888878            1       0.0       1.0        0.0        1.0   \n",
       "612          5.888878            1       0.0       1.0        0.0        1.0   \n",
       "613          5.888878            0       1.0       0.0        1.0        0.0   \n",
       "\n",
       "     Education_0  Education_1  Self_Employed_0  Self_Employed_1  \\\n",
       "0            1.0          0.0              1.0              0.0   \n",
       "1            1.0          0.0              1.0              0.0   \n",
       "2            1.0          0.0              0.0              1.0   \n",
       "3            0.0          1.0              1.0              0.0   \n",
       "4            1.0          0.0              1.0              0.0   \n",
       "..           ...          ...              ...              ...   \n",
       "609          1.0          0.0              1.0              0.0   \n",
       "610          1.0          0.0              1.0              0.0   \n",
       "611          1.0          0.0              1.0              0.0   \n",
       "612          1.0          0.0              1.0              0.0   \n",
       "613          1.0          0.0              0.0              1.0   \n",
       "\n",
       "     Credit_History_0  Credit_History_1  Property_Area_0  Property_Area_1  \\\n",
       "0                 0.0               1.0              0.0              0.0   \n",
       "1                 0.0               1.0              1.0              0.0   \n",
       "2                 0.0               1.0              0.0              0.0   \n",
       "3                 0.0               1.0              0.0              0.0   \n",
       "4                 0.0               1.0              0.0              0.0   \n",
       "..                ...               ...              ...              ...   \n",
       "609               0.0               1.0              1.0              0.0   \n",
       "610               0.0               1.0              1.0              0.0   \n",
       "611               0.0               1.0              0.0              0.0   \n",
       "612               0.0               1.0              0.0              0.0   \n",
       "613               1.0               0.0              0.0              1.0   \n",
       "\n",
       "     Property_Area_2  \n",
       "0                1.0  \n",
       "1                0.0  \n",
       "2                1.0  \n",
       "3                1.0  \n",
       "4                1.0  \n",
       "..               ...  \n",
       "609              0.0  \n",
       "610              0.0  \n",
       "611              1.0  \n",
       "612              1.0  \n",
       "613              0.0  \n",
       "\n",
       "[614 rows x 19 columns]"
      ]
     },
     "execution_count": 22,
     "metadata": {},
     "output_type": "execute_result"
    }
   ],
   "source": [
    "df ## Sanity Check"
   ]
  },
  {
   "cell_type": "markdown",
   "id": "a5994f3d",
   "metadata": {},
   "source": [
    "## Features Correlation"
   ]
  },
  {
   "cell_type": "code",
   "execution_count": 69,
   "id": "dff03afe",
   "metadata": {},
   "outputs": [
    {
     "data": {
      "image/png": "[encoded data removed]",
      "text/plain": [
       "<Figure size 576x396 with 2 Axes>"
      ]
     },
     "metadata": {},
     "output_type": "display_data"
    }
   ],
   "source": [
    "dataplot = sns.heatmap(df.corr())\n",
    "  \n",
    "# displaying heatmap\n",
    "plt.show()"
   ]
  },
  {
   "cell_type": "markdown",
   "id": "5616ac55",
   "metadata": {},
   "source": [
    "# Classification"
   ]
  },
  {
   "cell_type": "markdown",
   "id": "7397b426",
   "metadata": {},
   "source": [
    "## Vanilla with logistic regression"
   ]
  },
  {
   "cell_type": "markdown",
   "id": "da437e45",
   "metadata": {},
   "source": [
    "### Split train test"
   ]
  },
  {
   "cell_type": "code",
   "execution_count": 23,
   "id": "f0032a46",
   "metadata": {},
   "outputs": [],
   "source": [
    "y = df['Loan_Status']\n",
    "X = df.drop(['Loan_Status'], axis=1)"
   ]
  },
  {
   "cell_type": "code",
   "execution_count": 24,
   "id": "047d47e5",
   "metadata": {},
   "outputs": [],
   "source": [
    "X_train, X_test, y_train, y_test = train_test_split(X, y, \n",
    "                                                    test_size = 0.3, \n",
    "                                                    random_state = 123)"
   ]
  },
  {
   "cell_type": "markdown",
   "id": "24f8c849",
   "metadata": {},
   "source": [
    "### Modelling"
   ]
  },
  {
   "cell_type": "code",
   "execution_count": 25,
   "id": "39027940",
   "metadata": {},
   "outputs": [
    {
     "name": "stderr",
     "output_type": "stream",
     "text": [
      "C:\\Users\\L580\\anaconda3\\lib\\site-packages\\sklearn\\linear_model\\_logistic.py:814: ConvergenceWarning: lbfgs failed to converge (status=1):\n",
      "STOP: TOTAL NO. of ITERATIONS REACHED LIMIT.\n",
      "\n",
      "Increase the number of iterations (max_iter) or scale the data as shown in:\n",
      "    https://scikit-learn.org/stable/modules/preprocessing.html\n",
      "Please also refer to the documentation for alternative solver options:\n",
      "    https://scikit-learn.org/stable/modules/linear_model.html#logistic-regression\n",
      "  n_iter_i = _check_optimize_result(\n"
     ]
    }
   ],
   "source": [
    "lr = LogisticRegression(random_state = 42).fit(X_train, y_train)"
   ]
  },
  {
   "cell_type": "markdown",
   "id": "e2d932f7",
   "metadata": {},
   "source": [
    "### Predict and Evaluate"
   ]
  },
  {
   "cell_type": "code",
   "execution_count": 26,
   "id": "efb97af7",
   "metadata": {},
   "outputs": [],
   "source": [
    "y_pred_lr = lr.predict(X_test)"
   ]
  },
  {
   "cell_type": "code",
   "execution_count": 27,
   "id": "766b3933",
   "metadata": {},
   "outputs": [
    {
     "data": {
      "text/plain": [
       "0.772972972972973"
      ]
     },
     "execution_count": 27,
     "metadata": {},
     "output_type": "execute_result"
    }
   ],
   "source": [
    "lr.score(X_test, y_test)"
   ]
  },
  {
   "cell_type": "code",
   "execution_count": 28,
   "id": "1d515208",
   "metadata": {},
   "outputs": [
    {
     "data": {
      "text/plain": [
       "array([[ 25,   3],\n",
       "       [ 39, 118]], dtype=int64)"
      ]
     },
     "execution_count": 28,
     "metadata": {},
     "output_type": "execute_result"
    }
   ],
   "source": [
    "confusion_matrix(y_pred_lr,y_test)"
   ]
  },
  {
   "cell_type": "code",
   "execution_count": 29,
   "id": "47041830",
   "metadata": {},
   "outputs": [
    {
     "data": {
      "text/plain": [
       "0.8489208633093525"
      ]
     },
     "execution_count": 29,
     "metadata": {},
     "output_type": "execute_result"
    }
   ],
   "source": [
    "f1_score(y_pred_lr,y_test)"
   ]
  },
  {
   "cell_type": "markdown",
   "id": "29fc41f2",
   "metadata": {},
   "source": [
    "## Improve with Random Forest and Gridsearch"
   ]
  },
  {
   "cell_type": "markdown",
   "id": "804530c8",
   "metadata": {},
   "source": [
    "### Modelling and Gridsearch"
   ]
  },
  {
   "cell_type": "code",
   "execution_count": 43,
   "id": "082006e6",
   "metadata": {},
   "outputs": [
    {
     "data": {
      "text/plain": [
       "GridSearchCV(cv=5, estimator=RandomForestClassifier(random_state=123),\n",
       "             n_jobs=-1,\n",
       "             param_grid={'max_depth': array([3, 4, 5, 6, 7, 8, 9]),\n",
       "                         'max_features': array([3, 4, 5, 6, 7, 8, 9]),\n",
       "                         'n_estimators': array([ 10,  20,  30,  40,  50,  60,  70,  80,  90, 100])},\n",
       "             scoring='accuracy')"
      ]
     },
     "execution_count": 43,
     "metadata": {},
     "output_type": "execute_result"
    }
   ],
   "source": [
    "rfc = RandomForestClassifier(random_state = 123)\n",
    "\n",
    "grid_param = {\n",
    "    'n_estimators' : np.arange(10, 101, 10),\n",
    "    'max_depth' : np.arange(3, 10),\n",
    "    'max_features' : np.arange(3, 10)\n",
    "}\n",
    "\n",
    "gd_sr = GridSearchCV(rfc, \n",
    "                     grid_param,\n",
    "                     scoring = 'accuracy',\n",
    "                     cv = 5,\n",
    "                     n_jobs = -1)\n",
    "\n",
    "gd_sr.fit(X_train, y_train)"
   ]
  },
  {
   "cell_type": "markdown",
   "id": "cf49fd6f",
   "metadata": {},
   "source": [
    "### Evaluate and Remodelling"
   ]
  },
  {
   "cell_type": "code",
   "execution_count": 44,
   "id": "397dd097",
   "metadata": {},
   "outputs": [
    {
     "name": "stdout",
     "output_type": "stream",
     "text": [
      "{'max_depth': 4, 'max_features': 3, 'n_estimators': 10}\n"
     ]
    }
   ],
   "source": [
    "best_parameters = gd_sr.best_params_\n",
    "print(best_parameters)"
   ]
  },
  {
   "cell_type": "code",
   "execution_count": 45,
   "id": "e35e7926",
   "metadata": {},
   "outputs": [
    {
     "data": {
      "text/plain": [
       "0.8274965800273597"
      ]
     },
     "execution_count": 45,
     "metadata": {},
     "output_type": "execute_result"
    }
   ],
   "source": [
    "gd_sr.best_score_"
   ]
  },
  {
   "cell_type": "code",
   "execution_count": 46,
   "id": "61373de7",
   "metadata": {},
   "outputs": [
    {
     "data": {
      "text/plain": [
       "RandomForestClassifier(max_depth=3, max_features=3, n_estimators=40,\n",
       "                       random_state=123)"
      ]
     },
     "execution_count": 46,
     "metadata": {},
     "output_type": "execute_result"
    }
   ],
   "source": [
    "rfc = RandomForestClassifier(n_estimators = 40,\n",
    "                            max_depth = 3,\n",
    "                            max_features = 3,\n",
    "                            random_state = 123)\n",
    "rfc.fit(X_train, y_train)"
   ]
  },
  {
   "cell_type": "code",
   "execution_count": 47,
   "id": "d5afd1ec",
   "metadata": {},
   "outputs": [],
   "source": [
    "y_pred = rfc.predict(X_test)"
   ]
  },
  {
   "cell_type": "code",
   "execution_count": 48,
   "id": "56ba259f",
   "metadata": {},
   "outputs": [
    {
     "data": {
      "text/plain": [
       "0.772972972972973"
      ]
     },
     "execution_count": 48,
     "metadata": {},
     "output_type": "execute_result"
    }
   ],
   "source": [
    "accuracy_score(y_pred, y_test)"
   ]
  },
  {
   "cell_type": "code",
   "execution_count": 49,
   "id": "c2c41207",
   "metadata": {},
   "outputs": [
    {
     "data": {
      "text/plain": [
       "array([[ 25,   3],\n",
       "       [ 39, 118]], dtype=int64)"
      ]
     },
     "execution_count": 49,
     "metadata": {},
     "output_type": "execute_result"
    }
   ],
   "source": [
    "confusion_matrix(y_pred,y_test)"
   ]
  },
  {
   "cell_type": "code",
   "execution_count": 50,
   "id": "d533a3a0",
   "metadata": {},
   "outputs": [
    {
     "data": {
      "text/plain": [
       "0.8489208633093525"
      ]
     },
     "execution_count": 50,
     "metadata": {},
     "output_type": "execute_result"
    }
   ],
   "source": [
    "f1_score(y_pred,y_test)"
   ]
  },
  {
   "cell_type": "markdown",
   "id": "bd0577d6",
   "metadata": {},
   "source": [
    "## Improve with XGB Classifier and Gridsearch"
   ]
  },
  {
   "cell_type": "markdown",
   "id": "05767b16",
   "metadata": {},
   "source": [
    "### Modelling and Gridsearch"
   ]
  },
  {
   "cell_type": "code",
   "execution_count": 51,
   "id": "6fd48402",
   "metadata": {},
   "outputs": [
    {
     "name": "stderr",
     "output_type": "stream",
     "text": [
      "C:\\Users\\L580\\anaconda3\\lib\\site-packages\\sklearn\\model_selection\\_validation.py:372: FitFailedWarning: \n",
      "900 fits failed out of a total of 8100.\n",
      "The score on these train-test partitions for these parameters will be set to nan.\n",
      "If these failures are not expected, you can try to debug them by setting error_score='raise'.\n",
      "\n",
      "Below are more details about the failures:\n",
      "--------------------------------------------------------------------------------\n",
      "900 fits failed with the following error:\n",
      "Traceback (most recent call last):\n",
      "  File \"C:\\Users\\L580\\anaconda3\\lib\\site-packages\\sklearn\\model_selection\\_validation.py\", line 680, in _fit_and_score\n",
      "    estimator.fit(X_train, y_train, **fit_params)\n",
      "  File \"C:\\Users\\L580\\anaconda3\\lib\\site-packages\\sklearn\\ensemble\\_gb.py\", line 586, in fit\n",
      "    n_stages = self._fit_stages(\n",
      "  File \"C:\\Users\\L580\\anaconda3\\lib\\site-packages\\sklearn\\ensemble\\_gb.py\", line 663, in _fit_stages\n",
      "    raw_predictions = self._fit_stage(\n",
      "  File \"C:\\Users\\L580\\anaconda3\\lib\\site-packages\\sklearn\\ensemble\\_gb.py\", line 246, in _fit_stage\n",
      "    tree.fit(X, residual, sample_weight=sample_weight, check_input=False)\n",
      "  File \"C:\\Users\\L580\\anaconda3\\lib\\site-packages\\sklearn\\tree\\_classes.py\", line 1315, in fit\n",
      "    super().fit(\n",
      "  File \"C:\\Users\\L580\\anaconda3\\lib\\site-packages\\sklearn\\tree\\_classes.py\", line 308, in fit\n",
      "    raise ValueError(\"max_features must be in (0, n_features]\")\n",
      "ValueError: max_features must be in (0, n_features]\n",
      "\n",
      "  warnings.warn(some_fits_failed_message, FitFailedWarning)\n",
      "C:\\Users\\L580\\anaconda3\\lib\\site-packages\\sklearn\\model_selection\\_search.py:969: UserWarning: One or more of the test scores are non-finite: [0.70164159 0.82514364 0.82514364 ...        nan        nan        nan]\n",
      "  warnings.warn(\n"
     ]
    },
    {
     "data": {
      "text/plain": [
       "GridSearchCV(cv=5, estimator=GradientBoostingClassifier(random_state=42),\n",
       "             n_jobs=-1,\n",
       "             param_grid={'max_depth': array([1, 2, 3, 4, 5, 6, 7, 8, 9]),\n",
       "                         'max_features': array([ 3,  4,  5,  6,  7,  8,  9, 10, 11, 12, 13, 14, 15, 16, 17, 18, 19,\n",
       "       20]),\n",
       "                         'n_estimators': array([ 10,  20,  30,  40,  50,  60,  70,  80,  90, 100])},\n",
       "             scoring='accuracy')"
      ]
     },
     "execution_count": 51,
     "metadata": {},
     "output_type": "execute_result"
    }
   ],
   "source": [
    "XGB = GradientBoostingClassifier(random_state=42)\n",
    "\n",
    "grid_param_XGB = {\n",
    "    'n_estimators' : np.arange(10, 101, 10),\n",
    "    'max_depth' : np.arange(1, 10),\n",
    "    'max_features' : np.arange(3, 21)\n",
    "}\n",
    "\n",
    "gd_sr_XGB = GridSearchCV(XGB, \n",
    "                     grid_param_XGB,\n",
    "                     scoring = 'accuracy',\n",
    "                     cv = 5,\n",
    "                     n_jobs = -1)\n",
    "\n",
    "gd_sr_XGB.fit(X_train, y_train)\n"
   ]
  },
  {
   "cell_type": "markdown",
   "id": "449025c1",
   "metadata": {},
   "source": [
    "## Evaluate and Remodelling"
   ]
  },
  {
   "cell_type": "code",
   "execution_count": 52,
   "id": "bf39608f",
   "metadata": {},
   "outputs": [
    {
     "name": "stdout",
     "output_type": "stream",
     "text": [
      "{'max_depth': 1, 'max_features': 3, 'n_estimators': 20}\n"
     ]
    }
   ],
   "source": [
    "best_parameters = gd_sr_XGB.best_params_\n",
    "print(best_parameters)"
   ]
  },
  {
   "cell_type": "code",
   "execution_count": 53,
   "id": "4bce144d",
   "metadata": {},
   "outputs": [
    {
     "data": {
      "text/plain": [
       "0.825143638850889"
      ]
     },
     "execution_count": 53,
     "metadata": {},
     "output_type": "execute_result"
    }
   ],
   "source": [
    "gd_sr_XGB.best_score_"
   ]
  },
  {
   "cell_type": "code",
   "execution_count": 54,
   "id": "0ba96900",
   "metadata": {},
   "outputs": [
    {
     "data": {
      "text/plain": [
       "RandomForestClassifier(max_depth=5, max_features=4, n_estimators=10,\n",
       "                       random_state=123)"
      ]
     },
     "execution_count": 54,
     "metadata": {},
     "output_type": "execute_result"
    }
   ],
   "source": [
    "XGB = RandomForestClassifier(n_estimators = 10,\n",
    "                            max_depth = 5,\n",
    "                            max_features = 4,\n",
    "                            random_state = 123)\n",
    "XGB.fit(X_train, y_train)"
   ]
  },
  {
   "cell_type": "code",
   "execution_count": 55,
   "id": "3bdeb3cc",
   "metadata": {},
   "outputs": [],
   "source": [
    "y_pred = XGB.predict(X_test)"
   ]
  },
  {
   "cell_type": "code",
   "execution_count": 56,
   "id": "73839213",
   "metadata": {},
   "outputs": [
    {
     "data": {
      "text/plain": [
       "0.772972972972973"
      ]
     },
     "execution_count": 56,
     "metadata": {},
     "output_type": "execute_result"
    }
   ],
   "source": [
    "accuracy_score(y_pred, y_test)"
   ]
  },
  {
   "cell_type": "code",
   "execution_count": 57,
   "id": "3b3d40de",
   "metadata": {},
   "outputs": [
    {
     "data": {
      "text/plain": [
       "array([[ 25,   3],\n",
       "       [ 39, 118]], dtype=int64)"
      ]
     },
     "execution_count": 57,
     "metadata": {},
     "output_type": "execute_result"
    }
   ],
   "source": [
    "confusion_matrix(y_pred,y_test)"
   ]
  },
  {
   "cell_type": "code",
   "execution_count": 58,
   "id": "c360783e",
   "metadata": {},
   "outputs": [
    {
     "data": {
      "text/plain": [
       "0.8489208633093525"
      ]
     },
     "execution_count": 58,
     "metadata": {},
     "output_type": "execute_result"
    }
   ],
   "source": [
    "f1_score(y_pred,y_test)"
   ]
  },
  {
   "cell_type": "markdown",
   "id": "9b8675fb",
   "metadata": {},
   "source": [
    "## ROC/AUC Curve"
   ]
  },
  {
   "cell_type": "markdown",
   "id": "31086032",
   "metadata": {},
   "source": [
    "### Predict Model Probability and Determine FPR, TPR"
   ]
  },
  {
   "cell_type": "code",
   "execution_count": 59,
   "id": "63cdfabd",
   "metadata": {},
   "outputs": [],
   "source": [
    "pred_prob1 = lr.predict_proba(X_test)\n",
    "pred_prob2 = rfc.predict_proba(X_test)\n",
    "pred_prob3 = XGB.predict_proba(X_test)"
   ]
  },
  {
   "cell_type": "code",
   "execution_count": 60,
   "id": "c496a55e",
   "metadata": {},
   "outputs": [],
   "source": [
    "from sklearn.metrics import roc_curve\n",
    "fpr1, tpr1, thresh1 = roc_curve(y_test, pred_prob1[:,1], pos_label=1)\n",
    "fpr2, tpr2, thresh2 = roc_curve(y_test, pred_prob1[:,1], pos_label=1)\n",
    "fpr3, tpr3, thresh3 = roc_curve(y_test, pred_prob1[:,1], pos_label=1)\n",
    "\n",
    "# roc curve for tpr = fpr \n",
    "random_probs = [0 for i in range(len(y_test))]\n",
    "p_fpr, p_tpr, _ = roc_curve(y_test, random_probs, pos_label=1)"
   ]
  },
  {
   "cell_type": "markdown",
   "id": "65b7ea19",
   "metadata": {},
   "source": [
    "### Determine AUC Score"
   ]
  },
  {
   "cell_type": "code",
   "execution_count": 61,
   "id": "813916be",
   "metadata": {},
   "outputs": [
    {
     "name": "stdout",
     "output_type": "stream",
     "text": [
      "0.7793130165289256 0.7961647727272727 0.7806043388429752\n"
     ]
    }
   ],
   "source": [
    "from sklearn.metrics import roc_auc_score\n",
    "auc_score1 = roc_auc_score(y_test, pred_prob1[:,1])\n",
    "auc_score2 = roc_auc_score(y_test, pred_prob2[:,1])\n",
    "auc_score3 = roc_auc_score(y_test, pred_prob3[:,1])\n",
    "print(auc_score1, auc_score2, auc_score3 )"
   ]
  },
  {
   "cell_type": "markdown",
   "id": "f187e096",
   "metadata": {},
   "source": [
    "### Visualize Curve"
   ]
  },
  {
   "cell_type": "code",
   "execution_count": 63,
   "id": "f461705b",
   "metadata": {},
   "outputs": [
    {
     "data": {
      "image/png": "[encoded data removed]",
      "text/plain": [
       "<Figure size 576x396 with 1 Axes>"
      ]
     },
     "metadata": {},
     "output_type": "display_data"
    }
   ],
   "source": [
    "plt.style.use('seaborn')\n",
    "\n",
    "# plot roc curves\n",
    "plt.plot(fpr1, tpr1, linestyle='--',color='orange', label='Logistic Regression')\n",
    "plt.plot(fpr2, tpr2, linestyle='--',color='red', label='Random Forest')\n",
    "plt.plot(fpr3, tpr3, linestyle='--',color='black', label='XGB')\n",
    "plt.plot(p_fpr, p_tpr, linestyle='--', color='blue')\n",
    "# title\n",
    "plt.title('ROC curve')\n",
    "# x label\n",
    "plt.xlabel('False Positive Rate')\n",
    "# y label\n",
    "plt.ylabel('True Positive rate')\n",
    "\n",
    "plt.legend(loc='best')\n",
    "plt.savefig('ROC',dpi=300)\n",
    "plt.show();"
   ]
  },
  {
   "cell_type": "markdown",
   "id": "7c2ac913",
   "metadata": {},
   "source": [
    "## Source"
   ]
  },
  {
   "cell_type": "markdown",
   "id": "4ef0ca77",
   "metadata": {},
   "source": [
    "https://www.kaggle.com/code/warcoder/100-accuracy-with-random-forest\n",
    "https://www.kaggle.com/code/danilcherinov/eda-catboost-rf-2\n",
    "https://www.analyticsvidhya.com/blog/2020/06/auc-roc-curve-machine-learning/\n",
    "https://scikit-learn.org/stable/modules/generated/sklearn.linear_model.LogisticRegression.html\n",
    "https://scikit-learn.org/stable/modules/generated/sklearn.ensemble.GradientBoostingClassifier.html\n",
    "https://pbpython.com/categorical-encoding.html"
   ]
  },
  {
   "cell_type": "code",
   "execution_count": null,
   "id": "05ab5373",
   "metadata": {},
   "outputs": [],
   "source": []
  }
 ],
 "metadata": {
  "kernelspec": {
   "display_name": "Python 3 (ipykernel)",
   "language": "python",
   "name": "python3"
  },
  "language_info": {
   "codemirror_mode": {
    "name": "ipython",
    "version": 3
   },
   "file_extension": ".py",
   "mimetype": "text/x-python",
   "name": "python",
   "nbconvert_exporter": "python",
   "pygments_lexer": "ipython3",
   "version": "3.9.12"
  }
 },
 "nbformat": 4,
 "nbformat_minor": 5
}
